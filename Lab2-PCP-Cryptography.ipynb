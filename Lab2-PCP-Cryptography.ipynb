{
 "cells": [
  {
   "cell_type": "markdown",
   "id": "d33376d4",
   "metadata": {},
   "source": [
    "# Lab 2 - Python PGP Cryptography Lab: Implementing Public-Key Encryption\n",
    "## Lab Overview\n",
    "\n",
    "This lab teaches Pretty Good Privacy (PGP) cryptography fundamentals through Python implementation, while using industry-standard GPG tools for verification and testing. Students will build their own PGP-like system and validate it against real GPG implementations.\n",
    "\n",
    "## Learning Objectives\n",
    "- Implement RSA key generation and management in Python\n",
    "- Build encryption/decryption functions following PGP principles\n",
    "- Create digital signature capabilities\n",
    "- Integrate Python implementation with GPG tools for validation\n",
    "- Decrypt instructor-signed files using public key verification\n",
    "- Repository: https://github.com/jimnup/mtu4600-lab2.git  Links to an external site.\n",
    "\n",
    "## Software Requirements\n",
    "\n",
    "### Python Libraries\n",
    "\n",
    "pip install cryptography pycryptodome python-gnupg\n",
    "\n",
    "### GPG Tools Installation\n",
    "- *Windows:* Download Gpg4win from https://www.gpg4win.org/\n",
    "- *macOS:* Install via Homebrew:\n",
    "```\n",
    "brew install gnupg\n",
    "```\n",
    "- *Linux:* Usually pre-installed, or:\n",
    "```\n",
    "sudo apt-get install gnupg\n",
    "```"
   ]
  },
  {
   "cell_type": "markdown",
   "id": "ce1337ce",
   "metadata": {},
   "source": []
  }
 ],
 "metadata": {
  "language_info": {
   "name": "python"
  }
 },
 "nbformat": 4,
 "nbformat_minor": 5
}
